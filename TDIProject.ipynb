{
 "cells": [
  {
   "cell_type": "code",
   "execution_count": 1,
   "metadata": {},
   "outputs": [],
   "source": [
    "import itertools\n",
    "import numpy as np\n",
    "import matplotlib as mpl\n",
    "import matplotlib.pyplot as plt\n",
    "from matplotlib.ticker import NullFormatter\n",
    "import pandas as pd\n",
    "import numpy as np\n",
    "import seaborn as sns\n",
    "import matplotlib.ticker as ticker\n",
    "from sklearn import preprocessing\n",
    "%matplotlib inline"
   ]
  },
  {
   "cell_type": "code",
   "execution_count": 2,
   "metadata": {},
   "outputs": [
    {
     "name": "stdout",
     "output_type": "stream",
     "text": [
      "Collecting package metadata (current_repodata.json): ...working... done\n",
      "Solving environment: ...working... done\n",
      "\n",
      "# All requested packages already installed.\n",
      "\n"
     ]
    }
   ],
   "source": [
    "!conda install -c anaconda xlrd --yes"
   ]
  },
  {
   "cell_type": "code",
   "execution_count": 99,
   "metadata": {},
   "outputs": [
    {
     "name": "stdout",
     "output_type": "stream",
     "text": [
      "Data downloaded and read into a dataframe!\n"
     ]
    }
   ],
   "source": [
    "df = pd.read_excel(r'C:\\Users\\OLUFUNMILAYO\\Downloads\\fy2017_table4.xlsx')\n",
    "\n",
    "print('Data downloaded and read into a dataframe!')"
   ]
  },
  {
   "cell_type": "code",
   "execution_count": 100,
   "metadata": {
    "scrolled": true
   },
   "outputs": [
    {
     "data": {
      "text/html": [
       "<div>\n",
       "<style scoped>\n",
       "    .dataframe tbody tr th:only-of-type {\n",
       "        vertical-align: middle;\n",
       "    }\n",
       "\n",
       "    .dataframe tbody tr th {\n",
       "        vertical-align: top;\n",
       "    }\n",
       "\n",
       "    .dataframe thead th {\n",
       "        text-align: right;\n",
       "    }\n",
       "</style>\n",
       "<table border=\"1\" class=\"dataframe\">\n",
       "  <thead>\n",
       "    <tr style=\"text-align: right;\">\n",
       "      <th></th>\n",
       "      <th>State or territory of residence</th>\n",
       "      <th>2010</th>\n",
       "      <th>2011</th>\n",
       "      <th>2012</th>\n",
       "      <th>2013</th>\n",
       "      <th>2014</th>\n",
       "      <th>2015</th>\n",
       "      <th>2016</th>\n",
       "      <th>2017</th>\n",
       "    </tr>\n",
       "  </thead>\n",
       "  <tbody>\n",
       "    <tr>\n",
       "      <th>0</th>\n",
       "      <td>Alabama</td>\n",
       "      <td>3740</td>\n",
       "      <td>4063</td>\n",
       "      <td>3873</td>\n",
       "      <td>3848</td>\n",
       "      <td>3685.0</td>\n",
       "      <td>3928.0</td>\n",
       "      <td>4736.0</td>\n",
       "      <td>3801.0</td>\n",
       "    </tr>\n",
       "    <tr>\n",
       "      <th>1</th>\n",
       "      <td>Alaska</td>\n",
       "      <td>1703</td>\n",
       "      <td>1799</td>\n",
       "      <td>1612</td>\n",
       "      <td>1460</td>\n",
       "      <td>1505.0</td>\n",
       "      <td>1572.0</td>\n",
       "      <td>1726.0</td>\n",
       "      <td>1547.0</td>\n",
       "    </tr>\n",
       "    <tr>\n",
       "      <th>2</th>\n",
       "      <td>Arizona</td>\n",
       "      <td>18243</td>\n",
       "      <td>20333</td>\n",
       "      <td>18434</td>\n",
       "      <td>16097</td>\n",
       "      <td>16908.0</td>\n",
       "      <td>17997.0</td>\n",
       "      <td>20694.0</td>\n",
       "      <td>19344.0</td>\n",
       "    </tr>\n",
       "    <tr>\n",
       "      <th>3</th>\n",
       "      <td>Arkansas</td>\n",
       "      <td>2684</td>\n",
       "      <td>2874</td>\n",
       "      <td>2795</td>\n",
       "      <td>2900</td>\n",
       "      <td>2793.0</td>\n",
       "      <td>2814.0</td>\n",
       "      <td>3158.0</td>\n",
       "      <td>3071.0</td>\n",
       "    </tr>\n",
       "    <tr>\n",
       "      <th>4</th>\n",
       "      <td>California</td>\n",
       "      <td>208446</td>\n",
       "      <td>210591</td>\n",
       "      <td>196622</td>\n",
       "      <td>191806</td>\n",
       "      <td>198379.0</td>\n",
       "      <td>209568.0</td>\n",
       "      <td>223141.0</td>\n",
       "      <td>214243.0</td>\n",
       "    </tr>\n",
       "  </tbody>\n",
       "</table>\n",
       "</div>"
      ],
      "text/plain": [
       "  State or territory of residence    2010    2011    2012    2013      2014  \\\n",
       "0                         Alabama    3740    4063    3873    3848    3685.0   \n",
       "1                          Alaska    1703    1799    1612    1460    1505.0   \n",
       "2                         Arizona   18243   20333   18434   16097   16908.0   \n",
       "3                        Arkansas    2684    2874    2795    2900    2793.0   \n",
       "4                      California  208446  210591  196622  191806  198379.0   \n",
       "\n",
       "       2015      2016      2017  \n",
       "0    3928.0    4736.0    3801.0  \n",
       "1    1572.0    1726.0    1547.0  \n",
       "2   17997.0   20694.0   19344.0  \n",
       "3    2814.0    3158.0    3071.0  \n",
       "4  209568.0  223141.0  214243.0  "
      ]
     },
     "execution_count": 100,
     "metadata": {},
     "output_type": "execute_result"
    }
   ],
   "source": [
    "df.head()"
   ]
  },
  {
   "cell_type": "code",
   "execution_count": 101,
   "metadata": {},
   "outputs": [
    {
     "data": {
      "text/plain": [
       "State or territory of residence     object\n",
       "2010                                object\n",
       "2011                                object\n",
       "2012                                object\n",
       "2013                                object\n",
       "2014                               float64\n",
       "2015                               float64\n",
       "2016                               float64\n",
       "2017                               float64\n",
       "dtype: object"
      ]
     },
     "execution_count": 101,
     "metadata": {},
     "output_type": "execute_result"
    }
   ],
   "source": [
    "df.dtypes"
   ]
  },
  {
   "cell_type": "code",
   "execution_count": 102,
   "metadata": {},
   "outputs": [],
   "source": [
    "df.columns = list(map(str, df.columns))"
   ]
  },
  {
   "cell_type": "code",
   "execution_count": 103,
   "metadata": {},
   "outputs": [],
   "source": [
    "# let's rename the columns so that they make sense\n",
    "df.rename(columns={'State or territory of residence':'Residence'}, inplace=True)"
   ]
  },
  {
   "cell_type": "code",
   "execution_count": 104,
   "metadata": {
    "scrolled": true
   },
   "outputs": [
    {
     "data": {
      "text/html": [
       "<div>\n",
       "<style scoped>\n",
       "    .dataframe tbody tr th:only-of-type {\n",
       "        vertical-align: middle;\n",
       "    }\n",
       "\n",
       "    .dataframe tbody tr th {\n",
       "        vertical-align: top;\n",
       "    }\n",
       "\n",
       "    .dataframe thead th {\n",
       "        text-align: right;\n",
       "    }\n",
       "</style>\n",
       "<table border=\"1\" class=\"dataframe\">\n",
       "  <thead>\n",
       "    <tr style=\"text-align: right;\">\n",
       "      <th></th>\n",
       "      <th>Residence</th>\n",
       "      <th>2010</th>\n",
       "      <th>2011</th>\n",
       "      <th>2012</th>\n",
       "      <th>2013</th>\n",
       "      <th>2014</th>\n",
       "      <th>2015</th>\n",
       "      <th>2016</th>\n",
       "      <th>2017</th>\n",
       "    </tr>\n",
       "  </thead>\n",
       "  <tbody>\n",
       "    <tr>\n",
       "      <th>0</th>\n",
       "      <td>Alabama</td>\n",
       "      <td>3740</td>\n",
       "      <td>4063</td>\n",
       "      <td>3873</td>\n",
       "      <td>3848</td>\n",
       "      <td>3685.0</td>\n",
       "      <td>3928.0</td>\n",
       "      <td>4736.0</td>\n",
       "      <td>3801.0</td>\n",
       "    </tr>\n",
       "    <tr>\n",
       "      <th>1</th>\n",
       "      <td>Alaska</td>\n",
       "      <td>1703</td>\n",
       "      <td>1799</td>\n",
       "      <td>1612</td>\n",
       "      <td>1460</td>\n",
       "      <td>1505.0</td>\n",
       "      <td>1572.0</td>\n",
       "      <td>1726.0</td>\n",
       "      <td>1547.0</td>\n",
       "    </tr>\n",
       "    <tr>\n",
       "      <th>2</th>\n",
       "      <td>Arizona</td>\n",
       "      <td>18243</td>\n",
       "      <td>20333</td>\n",
       "      <td>18434</td>\n",
       "      <td>16097</td>\n",
       "      <td>16908.0</td>\n",
       "      <td>17997.0</td>\n",
       "      <td>20694.0</td>\n",
       "      <td>19344.0</td>\n",
       "    </tr>\n",
       "    <tr>\n",
       "      <th>3</th>\n",
       "      <td>Arkansas</td>\n",
       "      <td>2684</td>\n",
       "      <td>2874</td>\n",
       "      <td>2795</td>\n",
       "      <td>2900</td>\n",
       "      <td>2793.0</td>\n",
       "      <td>2814.0</td>\n",
       "      <td>3158.0</td>\n",
       "      <td>3071.0</td>\n",
       "    </tr>\n",
       "    <tr>\n",
       "      <th>4</th>\n",
       "      <td>California</td>\n",
       "      <td>208446</td>\n",
       "      <td>210591</td>\n",
       "      <td>196622</td>\n",
       "      <td>191806</td>\n",
       "      <td>198379.0</td>\n",
       "      <td>209568.0</td>\n",
       "      <td>223141.0</td>\n",
       "      <td>214243.0</td>\n",
       "    </tr>\n",
       "  </tbody>\n",
       "</table>\n",
       "</div>"
      ],
      "text/plain": [
       "    Residence    2010    2011    2012    2013      2014      2015      2016  \\\n",
       "0     Alabama    3740    4063    3873    3848    3685.0    3928.0    4736.0   \n",
       "1      Alaska    1703    1799    1612    1460    1505.0    1572.0    1726.0   \n",
       "2     Arizona   18243   20333   18434   16097   16908.0   17997.0   20694.0   \n",
       "3    Arkansas    2684    2874    2795    2900    2793.0    2814.0    3158.0   \n",
       "4  California  208446  210591  196622  191806  198379.0  209568.0  223141.0   \n",
       "\n",
       "       2017  \n",
       "0    3801.0  \n",
       "1    1547.0  \n",
       "2   19344.0  \n",
       "3    3071.0  \n",
       "4  214243.0  "
      ]
     },
     "execution_count": 104,
     "metadata": {},
     "output_type": "execute_result"
    }
   ],
   "source": [
    "df.head()"
   ]
  },
  {
   "cell_type": "code",
   "execution_count": 105,
   "metadata": {},
   "outputs": [],
   "source": [
    "df.columns = list(map(str, df.columns))"
   ]
  },
  {
   "cell_type": "code",
   "execution_count": 110,
   "metadata": {},
   "outputs": [],
   "source": [
    "df['2010'] = pd.to_numeric(df['2010'], errors='coerce')"
   ]
  },
  {
   "cell_type": "code",
   "execution_count": 106,
   "metadata": {},
   "outputs": [],
   "source": [
    "df['2011'] = pd.to_numeric(df['2011'], errors='coerce')"
   ]
  },
  {
   "cell_type": "code",
   "execution_count": 107,
   "metadata": {},
   "outputs": [],
   "source": [
    "df['2012'] = pd.to_numeric(df['2012'], errors='coerce')"
   ]
  },
  {
   "cell_type": "code",
   "execution_count": 108,
   "metadata": {},
   "outputs": [],
   "source": [
    "df['2013'] = pd.to_numeric(df['2013'], errors='coerce')"
   ]
  },
  {
   "cell_type": "code",
   "execution_count": 111,
   "metadata": {},
   "outputs": [
    {
     "data": {
      "text/plain": [
       "Residence     object\n",
       "2010         float64\n",
       "2011         float64\n",
       "2012         float64\n",
       "2013         float64\n",
       "2014         float64\n",
       "2015         float64\n",
       "2016         float64\n",
       "2017         float64\n",
       "dtype: object"
      ]
     },
     "execution_count": 111,
     "metadata": {},
     "output_type": "execute_result"
    }
   ],
   "source": [
    "df.dtypes"
   ]
  },
  {
   "cell_type": "code",
   "execution_count": 112,
   "metadata": {},
   "outputs": [],
   "source": [
    "df.set_index('Residence', inplace=True)\n"
   ]
  },
  {
   "cell_type": "code",
   "execution_count": 113,
   "metadata": {},
   "outputs": [],
   "source": [
    "df['Total'] = df.sum(axis=1)"
   ]
  },
  {
   "cell_type": "code",
   "execution_count": 114,
   "metadata": {},
   "outputs": [
    {
     "data": {
      "text/plain": [
       "(58, 9)"
      ]
     },
     "execution_count": 114,
     "metadata": {},
     "output_type": "execute_result"
    }
   ],
   "source": [
    "years = list(map(str, range(2010, 2017)))\n",
    "df.shape"
   ]
  },
  {
   "cell_type": "code",
   "execution_count": 115,
   "metadata": {},
   "outputs": [
    {
     "data": {
      "text/html": [
       "<div>\n",
       "<style scoped>\n",
       "    .dataframe tbody tr th:only-of-type {\n",
       "        vertical-align: middle;\n",
       "    }\n",
       "\n",
       "    .dataframe tbody tr th {\n",
       "        vertical-align: top;\n",
       "    }\n",
       "\n",
       "    .dataframe thead th {\n",
       "        text-align: right;\n",
       "    }\n",
       "</style>\n",
       "<table border=\"1\" class=\"dataframe\">\n",
       "  <thead>\n",
       "    <tr style=\"text-align: right;\">\n",
       "      <th></th>\n",
       "      <th>2010</th>\n",
       "      <th>2011</th>\n",
       "      <th>2012</th>\n",
       "      <th>2013</th>\n",
       "      <th>2014</th>\n",
       "      <th>2015</th>\n",
       "      <th>2016</th>\n",
       "      <th>2017</th>\n",
       "      <th>Total</th>\n",
       "    </tr>\n",
       "    <tr>\n",
       "      <th>Residence</th>\n",
       "      <th></th>\n",
       "      <th></th>\n",
       "      <th></th>\n",
       "      <th></th>\n",
       "      <th></th>\n",
       "      <th></th>\n",
       "      <th></th>\n",
       "      <th></th>\n",
       "      <th></th>\n",
       "    </tr>\n",
       "  </thead>\n",
       "  <tbody>\n",
       "    <tr>\n",
       "      <th>Alabama</th>\n",
       "      <td>3740.0</td>\n",
       "      <td>4063.0</td>\n",
       "      <td>3873.0</td>\n",
       "      <td>3848.0</td>\n",
       "      <td>3685.0</td>\n",
       "      <td>3928.0</td>\n",
       "      <td>4736.0</td>\n",
       "      <td>3801.0</td>\n",
       "      <td>31674.0</td>\n",
       "    </tr>\n",
       "    <tr>\n",
       "      <th>Alaska</th>\n",
       "      <td>1703.0</td>\n",
       "      <td>1799.0</td>\n",
       "      <td>1612.0</td>\n",
       "      <td>1460.0</td>\n",
       "      <td>1505.0</td>\n",
       "      <td>1572.0</td>\n",
       "      <td>1726.0</td>\n",
       "      <td>1547.0</td>\n",
       "      <td>12924.0</td>\n",
       "    </tr>\n",
       "    <tr>\n",
       "      <th>Arizona</th>\n",
       "      <td>18243.0</td>\n",
       "      <td>20333.0</td>\n",
       "      <td>18434.0</td>\n",
       "      <td>16097.0</td>\n",
       "      <td>16908.0</td>\n",
       "      <td>17997.0</td>\n",
       "      <td>20694.0</td>\n",
       "      <td>19344.0</td>\n",
       "      <td>148050.0</td>\n",
       "    </tr>\n",
       "    <tr>\n",
       "      <th>Arkansas</th>\n",
       "      <td>2684.0</td>\n",
       "      <td>2874.0</td>\n",
       "      <td>2795.0</td>\n",
       "      <td>2900.0</td>\n",
       "      <td>2793.0</td>\n",
       "      <td>2814.0</td>\n",
       "      <td>3158.0</td>\n",
       "      <td>3071.0</td>\n",
       "      <td>23089.0</td>\n",
       "    </tr>\n",
       "    <tr>\n",
       "      <th>California</th>\n",
       "      <td>208446.0</td>\n",
       "      <td>210591.0</td>\n",
       "      <td>196622.0</td>\n",
       "      <td>191806.0</td>\n",
       "      <td>198379.0</td>\n",
       "      <td>209568.0</td>\n",
       "      <td>223141.0</td>\n",
       "      <td>214243.0</td>\n",
       "      <td>1652796.0</td>\n",
       "    </tr>\n",
       "  </tbody>\n",
       "</table>\n",
       "</div>"
      ],
      "text/plain": [
       "                2010      2011      2012      2013      2014      2015  \\\n",
       "Residence                                                                \n",
       "Alabama       3740.0    4063.0    3873.0    3848.0    3685.0    3928.0   \n",
       "Alaska        1703.0    1799.0    1612.0    1460.0    1505.0    1572.0   \n",
       "Arizona      18243.0   20333.0   18434.0   16097.0   16908.0   17997.0   \n",
       "Arkansas      2684.0    2874.0    2795.0    2900.0    2793.0    2814.0   \n",
       "California  208446.0  210591.0  196622.0  191806.0  198379.0  209568.0   \n",
       "\n",
       "                2016      2017      Total  \n",
       "Residence                                  \n",
       "Alabama       4736.0    3801.0    31674.0  \n",
       "Alaska        1726.0    1547.0    12924.0  \n",
       "Arizona      20694.0   19344.0   148050.0  \n",
       "Arkansas      3158.0    3071.0    23089.0  \n",
       "California  223141.0  214243.0  1652796.0  "
      ]
     },
     "execution_count": 115,
     "metadata": {},
     "output_type": "execute_result"
    }
   ],
   "source": [
    "df.head()"
   ]
  },
  {
   "cell_type": "code",
   "execution_count": 116,
   "metadata": {},
   "outputs": [],
   "source": [
    "df.sort_values(['Total'], ascending=False, axis=0, inplace=True)"
   ]
  },
  {
   "cell_type": "code",
   "execution_count": 117,
   "metadata": {},
   "outputs": [],
   "source": [
    "df_top5 = df.head()"
   ]
  },
  {
   "cell_type": "code",
   "execution_count": 118,
   "metadata": {},
   "outputs": [
    {
     "data": {
      "text/html": [
       "<div>\n",
       "<style scoped>\n",
       "    .dataframe tbody tr th:only-of-type {\n",
       "        vertical-align: middle;\n",
       "    }\n",
       "\n",
       "    .dataframe tbody tr th {\n",
       "        vertical-align: top;\n",
       "    }\n",
       "\n",
       "    .dataframe thead th {\n",
       "        text-align: right;\n",
       "    }\n",
       "</style>\n",
       "<table border=\"1\" class=\"dataframe\">\n",
       "  <thead>\n",
       "    <tr style=\"text-align: right;\">\n",
       "      <th></th>\n",
       "      <th>2010</th>\n",
       "      <th>2011</th>\n",
       "      <th>2012</th>\n",
       "      <th>2013</th>\n",
       "      <th>2014</th>\n",
       "      <th>2015</th>\n",
       "      <th>2016</th>\n",
       "      <th>2017</th>\n",
       "      <th>Total</th>\n",
       "    </tr>\n",
       "    <tr>\n",
       "      <th>Residence</th>\n",
       "      <th></th>\n",
       "      <th></th>\n",
       "      <th></th>\n",
       "      <th></th>\n",
       "      <th></th>\n",
       "      <th></th>\n",
       "      <th></th>\n",
       "      <th></th>\n",
       "      <th></th>\n",
       "    </tr>\n",
       "  </thead>\n",
       "  <tbody>\n",
       "    <tr>\n",
       "      <th>California</th>\n",
       "      <td>208446.0</td>\n",
       "      <td>210591.0</td>\n",
       "      <td>196622.0</td>\n",
       "      <td>191806.0</td>\n",
       "      <td>198379.0</td>\n",
       "      <td>209568.0</td>\n",
       "      <td>223141.0</td>\n",
       "      <td>214243.0</td>\n",
       "      <td>1652796.0</td>\n",
       "    </tr>\n",
       "    <tr>\n",
       "      <th>New York</th>\n",
       "      <td>147999.0</td>\n",
       "      <td>148426.0</td>\n",
       "      <td>149505.0</td>\n",
       "      <td>133601.0</td>\n",
       "      <td>141406.0</td>\n",
       "      <td>130010.0</td>\n",
       "      <td>159878.0</td>\n",
       "      <td>139409.0</td>\n",
       "      <td>1150234.0</td>\n",
       "    </tr>\n",
       "    <tr>\n",
       "      <th>Florida</th>\n",
       "      <td>107276.0</td>\n",
       "      <td>109229.0</td>\n",
       "      <td>103047.0</td>\n",
       "      <td>102939.0</td>\n",
       "      <td>109310.0</td>\n",
       "      <td>118873.0</td>\n",
       "      <td>136337.0</td>\n",
       "      <td>127609.0</td>\n",
       "      <td>914620.0</td>\n",
       "    </tr>\n",
       "    <tr>\n",
       "      <th>Texas</th>\n",
       "      <td>87750.0</td>\n",
       "      <td>94481.0</td>\n",
       "      <td>95557.0</td>\n",
       "      <td>92674.0</td>\n",
       "      <td>95295.0</td>\n",
       "      <td>99727.0</td>\n",
       "      <td>110651.0</td>\n",
       "      <td>110126.0</td>\n",
       "      <td>786261.0</td>\n",
       "    </tr>\n",
       "    <tr>\n",
       "      <th>New Jersey</th>\n",
       "      <td>56920.0</td>\n",
       "      <td>55547.0</td>\n",
       "      <td>50790.0</td>\n",
       "      <td>53082.0</td>\n",
       "      <td>51609.0</td>\n",
       "      <td>49801.0</td>\n",
       "      <td>56187.0</td>\n",
       "      <td>54440.0</td>\n",
       "      <td>428376.0</td>\n",
       "    </tr>\n",
       "  </tbody>\n",
       "</table>\n",
       "</div>"
      ],
      "text/plain": [
       "                2010      2011      2012      2013      2014      2015  \\\n",
       "Residence                                                                \n",
       "California  208446.0  210591.0  196622.0  191806.0  198379.0  209568.0   \n",
       "New York    147999.0  148426.0  149505.0  133601.0  141406.0  130010.0   \n",
       "Florida     107276.0  109229.0  103047.0  102939.0  109310.0  118873.0   \n",
       "Texas        87750.0   94481.0   95557.0   92674.0   95295.0   99727.0   \n",
       "New Jersey   56920.0   55547.0   50790.0   53082.0   51609.0   49801.0   \n",
       "\n",
       "                2016      2017      Total  \n",
       "Residence                                  \n",
       "California  223141.0  214243.0  1652796.0  \n",
       "New York    159878.0  139409.0  1150234.0  \n",
       "Florida     136337.0  127609.0   914620.0  \n",
       "Texas       110651.0  110126.0   786261.0  \n",
       "New Jersey   56187.0   54440.0   428376.0  "
      ]
     },
     "execution_count": 118,
     "metadata": {},
     "output_type": "execute_result"
    }
   ],
   "source": [
    "df_top5"
   ]
  },
  {
   "cell_type": "code",
   "execution_count": 119,
   "metadata": {},
   "outputs": [],
   "source": [
    "df_top5box = df_top5.loc[['California', 'New York', 'Florida', 'Texas', 'New Jersey'], years].transpose()\n"
   ]
  },
  {
   "cell_type": "code",
   "execution_count": 121,
   "metadata": {},
   "outputs": [
    {
     "data": {
      "text/html": [
       "<div>\n",
       "<style scoped>\n",
       "    .dataframe tbody tr th:only-of-type {\n",
       "        vertical-align: middle;\n",
       "    }\n",
       "\n",
       "    .dataframe tbody tr th {\n",
       "        vertical-align: top;\n",
       "    }\n",
       "\n",
       "    .dataframe thead th {\n",
       "        text-align: right;\n",
       "    }\n",
       "</style>\n",
       "<table border=\"1\" class=\"dataframe\">\n",
       "  <thead>\n",
       "    <tr style=\"text-align: right;\">\n",
       "      <th>Residence</th>\n",
       "      <th>California</th>\n",
       "      <th>New York</th>\n",
       "      <th>Florida</th>\n",
       "      <th>Texas</th>\n",
       "      <th>New Jersey</th>\n",
       "    </tr>\n",
       "  </thead>\n",
       "  <tbody>\n",
       "    <tr>\n",
       "      <th>count</th>\n",
       "      <td>7.000000</td>\n",
       "      <td>7.000000</td>\n",
       "      <td>7.000000</td>\n",
       "      <td>7.000000</td>\n",
       "      <td>7.000000</td>\n",
       "    </tr>\n",
       "    <tr>\n",
       "      <th>mean</th>\n",
       "      <td>205507.571429</td>\n",
       "      <td>144403.571429</td>\n",
       "      <td>112430.142857</td>\n",
       "      <td>96590.714286</td>\n",
       "      <td>53419.428571</td>\n",
       "    </tr>\n",
       "    <tr>\n",
       "      <th>std</th>\n",
       "      <td>10641.142339</td>\n",
       "      <td>10226.154651</td>\n",
       "      <td>11816.099080</td>\n",
       "      <td>7167.346527</td>\n",
       "      <td>2823.663156</td>\n",
       "    </tr>\n",
       "    <tr>\n",
       "      <th>min</th>\n",
       "      <td>191806.000000</td>\n",
       "      <td>130010.000000</td>\n",
       "      <td>102939.000000</td>\n",
       "      <td>87750.000000</td>\n",
       "      <td>49801.000000</td>\n",
       "    </tr>\n",
       "    <tr>\n",
       "      <th>25%</th>\n",
       "      <td>197500.500000</td>\n",
       "      <td>137503.500000</td>\n",
       "      <td>105161.500000</td>\n",
       "      <td>93577.500000</td>\n",
       "      <td>51199.500000</td>\n",
       "    </tr>\n",
       "    <tr>\n",
       "      <th>50%</th>\n",
       "      <td>208446.000000</td>\n",
       "      <td>147999.000000</td>\n",
       "      <td>109229.000000</td>\n",
       "      <td>95295.000000</td>\n",
       "      <td>53082.000000</td>\n",
       "    </tr>\n",
       "    <tr>\n",
       "      <th>75%</th>\n",
       "      <td>210079.500000</td>\n",
       "      <td>148965.500000</td>\n",
       "      <td>114091.500000</td>\n",
       "      <td>97642.000000</td>\n",
       "      <td>55867.000000</td>\n",
       "    </tr>\n",
       "    <tr>\n",
       "      <th>max</th>\n",
       "      <td>223141.000000</td>\n",
       "      <td>159878.000000</td>\n",
       "      <td>136337.000000</td>\n",
       "      <td>110651.000000</td>\n",
       "      <td>56920.000000</td>\n",
       "    </tr>\n",
       "  </tbody>\n",
       "</table>\n",
       "</div>"
      ],
      "text/plain": [
       "Residence     California       New York        Florida          Texas  \\\n",
       "count           7.000000       7.000000       7.000000       7.000000   \n",
       "mean       205507.571429  144403.571429  112430.142857   96590.714286   \n",
       "std         10641.142339   10226.154651   11816.099080    7167.346527   \n",
       "min        191806.000000  130010.000000  102939.000000   87750.000000   \n",
       "25%        197500.500000  137503.500000  105161.500000   93577.500000   \n",
       "50%        208446.000000  147999.000000  109229.000000   95295.000000   \n",
       "75%        210079.500000  148965.500000  114091.500000   97642.000000   \n",
       "max        223141.000000  159878.000000  136337.000000  110651.000000   \n",
       "\n",
       "Residence    New Jersey  \n",
       "count          7.000000  \n",
       "mean       53419.428571  \n",
       "std         2823.663156  \n",
       "min        49801.000000  \n",
       "25%        51199.500000  \n",
       "50%        53082.000000  \n",
       "75%        55867.000000  \n",
       "max        56920.000000  "
      ]
     },
     "execution_count": 121,
     "metadata": {},
     "output_type": "execute_result"
    }
   ],
   "source": [
    "df_top5box.describe()"
   ]
  },
  {
   "cell_type": "code",
   "execution_count": 122,
   "metadata": {},
   "outputs": [
    {
     "data": {
      "image/png": "[encoded data removed]",
      "text/plain": [
       "<Figure size 720x504 with 1 Axes>"
      ]
     },
     "metadata": {
      "needs_background": "light"
     },
     "output_type": "display_data"
    }
   ],
   "source": [
    "df_top5box.plot(kind='box', figsize=(10, 7))\n",
    "\n",
    "plt.title('Box plot of Top 5 States for Persons with Permanent Residence')\n",
    "plt.ylabel('Number of Persons')\n",
    "\n",
    "plt.show()\n"
   ]
  },
  {
   "cell_type": "code",
   "execution_count": null,
   "metadata": {},
   "outputs": [],
   "source": []
  }
 ],
 "metadata": {
  "kernelspec": {
   "display_name": "Python 3",
   "language": "python",
   "name": "python3"
  },
  "language_info": {
   "codemirror_mode": {
    "name": "ipython",
    "version": 3
   },
   "file_extension": ".py",
   "mimetype": "text/x-python",
   "name": "python",
   "nbconvert_exporter": "python",
   "pygments_lexer": "ipython3",
   "version": "3.7.3"
  }
 },
 "nbformat": 4,
 "nbformat_minor": 2
}
